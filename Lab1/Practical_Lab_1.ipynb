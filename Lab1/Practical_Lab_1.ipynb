{
 "cells": [
  {
   "cell_type": "markdown",
   "id": "aa39c35d",
   "metadata": {},
   "source": [
    "## 1. Framing the Problem\n",
    "\n",
    "The objective of this lab is to perform univariate linear regression on the California Housing Prices dataset. We'll predict the median house value based on three individual features: median income, population, and number of households. Our goal is to identify which feature offers the best predictive power for median house value using linear regression evaluation metrics.\n"
   ]
  },
  {
   "cell_type": "markdown",
   "id": "f40bbba4",
   "metadata": {},
   "source": [
    "### Import Packages"
   ]
  },
  {
   "cell_type": "code",
   "execution_count": null,
   "id": "f71a2830",
   "metadata": {},
   "outputs": [],
   "source": [
    "import pandas as pd"
   ]
  }
 ],
 "metadata": {
  "language_info": {
   "name": "python"
  }
 },
 "nbformat": 4,
 "nbformat_minor": 5
}
