{
 "cells": [
  {
   "cell_type": "markdown",
   "id": "aa39c35d",
   "metadata": {},
   "source": [
    "## 1. Framing the Problem\n",
    "\n",
    "The objective of this lab is to perform univariate linear regression on the California Housing Prices dataset. We'll predict the median house value based on three individual features: median income, population, and number of households. Our goal is to identify which feature offers the best predictive power for median house value using linear regression evaluation metrics.\n"
   ]
  },
  {
   "cell_type": "markdown",
   "id": "f40bbba4",
   "metadata": {},
   "source": [
    "### Import Packages"
   ]
  },
  {
   "cell_type": "code",
   "execution_count": null,
   "id": "3dc26f34",
   "metadata": {},
   "outputs": [],
   "source": [
    "import requests\n",
    "import zipfile\n",
    "import pandas as pd\n",
    "import os"
   ]
  },
  {
   "cell_type": "markdown",
   "id": "baf891b8",
   "metadata": {},
   "source": [
    "Dataset Source: [California Housing Prices](https://www.kaggle.com/api/v1/datasets/download/camnugent/california-housing-prices)\n"
   ]
  },
  {
   "cell_type": "code",
   "execution_count": null,
   "id": "adf2ac9e",
   "metadata": {},
   "outputs": [
    {
     "name": "stdout",
     "output_type": "stream",
     "text": [
      "Downloading dataset from Kaggle...\n",
      "Download completed.\n",
      "Extracting dataset...\n",
      "   longitude  latitude  housing_median_age  total_rooms  total_bedrooms  \\\n",
      "0    -122.23     37.88                41.0        880.0           129.0   \n",
      "1    -122.22     37.86                21.0       7099.0          1106.0   \n",
      "2    -122.24     37.85                52.0       1467.0           190.0   \n",
      "3    -122.25     37.85                52.0       1274.0           235.0   \n",
      "4    -122.25     37.85                52.0       1627.0           280.0   \n",
      "\n",
      "   population  households  median_income  median_house_value ocean_proximity  \n",
      "0       322.0       126.0         8.3252            452600.0        NEAR BAY  \n",
      "1      2401.0      1138.0         8.3014            358500.0        NEAR BAY  \n",
      "2       496.0       177.0         7.2574            352100.0        NEAR BAY  \n",
      "3       558.0       219.0         5.6431            341300.0        NEAR BAY  \n",
      "4       565.0       259.0         3.8462            342200.0        NEAR BAY  \n",
      "\n",
      " DataFrame Info:\n",
      "<class 'pandas.core.frame.DataFrame'>\n",
      "RangeIndex: 20640 entries, 0 to 20639\n",
      "Data columns (total 10 columns):\n",
      " #   Column              Non-Null Count  Dtype  \n",
      "---  ------              --------------  -----  \n",
      " 0   longitude           20640 non-null  float64\n",
      " 1   latitude            20640 non-null  float64\n",
      " 2   housing_median_age  20640 non-null  float64\n",
      " 3   total_rooms         20640 non-null  float64\n",
      " 4   total_bedrooms      20433 non-null  float64\n",
      " 5   population          20640 non-null  float64\n",
      " 6   households          20640 non-null  float64\n",
      " 7   median_income       20640 non-null  float64\n",
      " 8   median_house_value  20640 non-null  float64\n",
      " 9   ocean_proximity     20640 non-null  object \n",
      "dtypes: float64(9), object(1)\n",
      "memory usage: 1.6+ MB\n",
      "\n",
      "🧹 Cleaned up downloaded ZIP file.\n"
     ]
    }
   ],
   "source": [
    "\n",
    "\n",
    "# --- Configuration ---\n",
    "zip_url = \"https://www.kaggle.com/api/v1/datasets/download/camnugent/california-housing-prices\"\n",
    "project_data_dir = os.path.join(\".\", \"data\")\n",
    "zip_file_name = \"california-housing-prices.zip\"\n",
    "zip_file_path = os.path.join(project_data_dir, zip_file_name)\n",
    "extract_dir = os.path.join(project_data_dir, \"california_housing_data\")\n",
    "cleanup_zip = True\n",
    "\n",
    "# --- Ensure directories exist ---\n",
    "os.makedirs(project_data_dir, exist_ok=True)\n",
    "os.makedirs(extract_dir, exist_ok=True)\n",
    "\n",
    "# --- Download ZIP from Kaggle (will fail without auth) ---\n",
    "try:\n",
    "    print(\"Downloading dataset from Kaggle...\")\n",
    "    response = requests.get(zip_url, stream=True)\n",
    "    response.raise_for_status() \n",
    "\n",
    "    with open(zip_file_path, \"wb\") as f:\n",
    "        for chunk in response.iter_content(chunk_size=8192):\n",
    "            f.write(chunk)\n",
    "    print(\"Download completed.\")\n",
    "\n",
    "except requests.exceptions.RequestException as e:\n",
    "    print(f\"Download failed: {e}\")\n",
    "    exit(1)\n",
    "\n",
    "# --- Extract CSV file ---\n",
    "try:\n",
    "    print(\"Extracting dataset...\")\n",
    "    with zipfile.ZipFile(zip_file_path, 'r') as zip_ref:\n",
    "        zip_ref.extractall(extract_dir)\n",
    "\n",
    "    # Find CSV file\n",
    "    csv_file_name = next((f for f in os.listdir(extract_dir) if f.endswith('.csv')), None)\n",
    "    if not csv_file_name:\n",
    "        raise FileNotFoundError(\"No CSV file found in the extracted content.\")\n",
    "\n",
    "    # Load into DataFrame\n",
    "    csv_file_path = os.path.join(extract_dir, csv_file_name)\n",
    "    df = pd.read_csv(csv_file_path)\n",
    "\n",
    "    print(df.head())\n",
    "    print(\"\\n DataFrame Info:\")\n",
    "    df.info()\n",
    "\n",
    "except zipfile.BadZipFile:\n",
    "    print(\"Error: Downloaded file is not a valid ZIP file.\")\n",
    "except Exception as e:\n",
    "    print(f\"Error during extraction or reading: {e}\")\n",
    "\n",
    "# --- Clean up ZIP file ---\n",
    "if cleanup_zip and os.path.exists(zip_file_path):\n",
    "    os.remove(zip_file_path)\n"
   ]
  }
 ],
 "metadata": {
  "kernelspec": {
   "display_name": "Python 3",
   "language": "python",
   "name": "python3"
  },
  "language_info": {
   "codemirror_mode": {
    "name": "ipython",
    "version": 3
   },
   "file_extension": ".py",
   "mimetype": "text/x-python",
   "name": "python",
   "nbconvert_exporter": "python",
   "pygments_lexer": "ipython3",
   "version": "3.12.2"
  }
 },
 "nbformat": 4,
 "nbformat_minor": 5
}
